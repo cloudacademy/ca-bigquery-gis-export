{
 "cells": [
  {
   "cell_type": "markdown",
   "metadata": {},
   "source": [
    "# Lab: Importing and Exporting Geography Data with BigQuery\n",
    "BigQuery is a serverless data warehouse solution on Google Cloud Platform (GCP) that allows users to interact with their data using standard ANSI SQL.\n",
    "\n",
    "Using the BigQuery Python API, BigQuery databases can be directly accessed via Python and/or Jupyter notebooks.\n",
    "\n",
    "BigQuery GIS allows point, line or polygon geospatial data to be stored as a special `GEOGRAPHY` data type within a BigQuery table.  This `GEOGRAPHY` datatype is stored as a [well-known text](https://en.wikipedia.org/wiki/Well-known_text_representation_of_geometry) object.  "
   ]
  },
  {
   "cell_type": "markdown",
   "metadata": {},
   "source": [
    "## Prerequisites\n",
    "* Basic understanding of relational databases and ANSI SQL\n",
    "* Basic understanding of Python\n",
    " \n",
    "## Learning Objectives\n",
    "When you complete this lab, you should be able to:\n",
    "* Interact with BigQuery datasets within Jupyter notebooks\n",
    "* Convert geospatial data into a BigQuery GIS `GEOGRAPHY` data object\n",
    "* Export BigQuery GIS `GEOGRAPHY` objects into other formats"
   ]
  },
  {
   "cell_type": "markdown",
   "metadata": {},
   "source": [
    "## Getting Started\n",
    "1. First, let's create a dataset to store the model.  [Click here to open the BigQuery UI.](https://console.cloud.google.com/bigquery?_ga=2.44329517.868398427.1595536877-1775816527.1575499949)\n",
    "\n",
    "2. In the BigQuery Web UI, select `Create Dataset`   \n",
    "![create dataset](./images/create_dataset.jpg)\n",
    "\n",
    "3. Give the dataset a name that you can reference later and keep the default settings.  I used `gis_example`.\n",
    "\n",
    "4. Click the `Create Table` button  \n",
    "![create table](./images/create_table.jpg)\n",
    "\n",
    "5. Create a new table called `nyc_landmarks` with the schema as seen below  \n",
    "![table schema](./images/nyc_landmarks.jpg)"
   ]
  },
  {
   "cell_type": "markdown",
   "metadata": {},
   "source": [
    "In order to connect to BigQuery in Python, you need to install the BigQuery Python client library and the BigQuery Storage API.  You will also need to set up the notebook to use the \"magic\" command, which we will be using to access BigQuery throughout this lab.  \n",
    "\n",
    "In addition, you will need to install the `pandas` package if you don't have it already installed.\n",
    "\n",
    "Note: If you are running this notebook in a GCP environment, these packages should be pre-installed."
   ]
  },
  {
   "cell_type": "code",
   "execution_count": null,
   "metadata": {},
   "outputs": [],
   "source": [
    "%pip install --upgrade 'google-cloud-bigquery'\n",
    "%pip install --upgrade 'google-cloud-bigquery-storage'\n",
    "%pip install --upgrade 'pyarrow'\n",
    "%pip install --upgrade 'pandas'\n",
    "\n",
    "%load_ext google.cloud.bigquery"
   ]
  },
  {
   "cell_type": "markdown",
   "metadata": {},
   "source": [
    "## Creating `GEOGRAPHY` Points\n",
    "Now that we have a table in BigQuery, we can start to populate it with some data.\n",
    "\n",
    "For our first landmark, we will insert the Empire State Building into the table, which has the following coordinates:\n",
    "* Latitude: 40.7484\n",
    "* Longitude: -73.9857\n",
    "\n",
    "`GEOGRAPHY` objects can be created from the following data formats:\n",
    "* Coordinate (latitude/longitude pairs)\n",
    "* Well-Known Text (WKT) objects\n",
    "* GeoJSON\n",
    "\n",
    "We can directly write ANSI SQL to query BigQuery tables by using the `%%bigquery` [magic command](https://googleapis.dev/python/bigquery/latest/magics.html)."
   ]
  },
  {
   "cell_type": "code",
   "execution_count": 1,
   "metadata": {},
   "outputs": [
    {
     "data": {
      "text/html": [
       "<div>\n",
       "<style scoped>\n",
       "    .dataframe tbody tr th:only-of-type {\n",
       "        vertical-align: middle;\n",
       "    }\n",
       "\n",
       "    .dataframe tbody tr th {\n",
       "        vertical-align: top;\n",
       "    }\n",
       "\n",
       "    .dataframe thead th {\n",
       "        text-align: right;\n",
       "    }\n",
       "</style>\n",
       "<table border=\"1\" class=\"dataframe\">\n",
       "  <thead>\n",
       "    <tr style=\"text-align: right;\">\n",
       "      <th></th>\n",
       "    </tr>\n",
       "  </thead>\n",
       "  <tbody>\n",
       "  </tbody>\n",
       "</table>\n",
       "</div>"
      ],
      "text/plain": [
       "Empty DataFrame\n",
       "Columns: []\n",
       "Index: []"
      ]
     },
     "execution_count": 1,
     "metadata": {},
     "output_type": "execute_result"
    }
   ],
   "source": [
    "%%bigquery\n",
    "INSERT INTO `gis_example.nyc_landmarks` (name,latitude,longitude)\n",
    "values ('Empire State Building',40.7484,-73.9857);"
   ]
  },
  {
   "cell_type": "markdown",
   "metadata": {},
   "source": [
    "Now that we have our first row of data in our table, we can use a \"constructor\" function to convert the latitude/longitude coordinates into a `GEOGRAPHY` data object.  The [ST_GEOGPOINT](https://cloud.google.com/bigquery/docs/reference/standard-sql/geography_functions#st_geogpoint) function takes coordinate values and converts them to the special `GEOGRAPHY` data type.  \n",
    "\n",
    "This function creates a point data object, because it describes a single geospatial point."
   ]
  },
  {
   "cell_type": "code",
   "execution_count": 2,
   "metadata": {},
   "outputs": [
    {
     "data": {
      "text/html": [
       "<div>\n",
       "<style scoped>\n",
       "    .dataframe tbody tr th:only-of-type {\n",
       "        vertical-align: middle;\n",
       "    }\n",
       "\n",
       "    .dataframe tbody tr th {\n",
       "        vertical-align: top;\n",
       "    }\n",
       "\n",
       "    .dataframe thead th {\n",
       "        text-align: right;\n",
       "    }\n",
       "</style>\n",
       "<table border=\"1\" class=\"dataframe\">\n",
       "  <thead>\n",
       "    <tr style=\"text-align: right;\">\n",
       "      <th></th>\n",
       "    </tr>\n",
       "  </thead>\n",
       "  <tbody>\n",
       "  </tbody>\n",
       "</table>\n",
       "</div>"
      ],
      "text/plain": [
       "Empty DataFrame\n",
       "Columns: []\n",
       "Index: []"
      ]
     },
     "execution_count": 2,
     "metadata": {},
     "output_type": "execute_result"
    }
   ],
   "source": [
    "%%bigquery\n",
    "UPDATE `gis_example.nyc_landmarks`\n",
    "SET landmark_geom = ST_GEOGPOINT(longitude,latitude)\n",
    "WHERE name = 'Empire State Building';"
   ]
  },
  {
   "cell_type": "markdown",
   "metadata": {},
   "source": [
    "We can now see what we have entered into the table, which includes the newly constructed `GEOGRAPHY` point."
   ]
  },
  {
   "cell_type": "code",
   "execution_count": 3,
   "metadata": {},
   "outputs": [
    {
     "data": {
      "text/html": [
       "<div>\n",
       "<style scoped>\n",
       "    .dataframe tbody tr th:only-of-type {\n",
       "        vertical-align: middle;\n",
       "    }\n",
       "\n",
       "    .dataframe tbody tr th {\n",
       "        vertical-align: top;\n",
       "    }\n",
       "\n",
       "    .dataframe thead th {\n",
       "        text-align: right;\n",
       "    }\n",
       "</style>\n",
       "<table border=\"1\" class=\"dataframe\">\n",
       "  <thead>\n",
       "    <tr style=\"text-align: right;\">\n",
       "      <th></th>\n",
       "      <th>name</th>\n",
       "      <th>latitude</th>\n",
       "      <th>longitude</th>\n",
       "      <th>landmark_geom</th>\n",
       "    </tr>\n",
       "  </thead>\n",
       "  <tbody>\n",
       "    <tr>\n",
       "      <th>0</th>\n",
       "      <td>Empire State Building</td>\n",
       "      <td>40.7484</td>\n",
       "      <td>-73.9857</td>\n",
       "      <td>POINT(-73.9857 40.7484)</td>\n",
       "    </tr>\n",
       "  </tbody>\n",
       "</table>\n",
       "</div>"
      ],
      "text/plain": [
       "                    name  latitude  longitude            landmark_geom\n",
       "0  Empire State Building   40.7484   -73.9857  POINT(-73.9857 40.7484)"
      ]
     },
     "execution_count": 3,
     "metadata": {},
     "output_type": "execute_result"
    }
   ],
   "source": [
    "%%bigquery\n",
    "SELECT *\n",
    "FROM `gis_example.nyc_landmarks`;"
   ]
  },
  {
   "cell_type": "markdown",
   "metadata": {},
   "source": [
    "The `GEOGRAPHY` data type is stored in [Well-Known Text (WKT)](https://en.wikipedia.org/wiki/Well-known_text_representation_of_geometry) format.\n",
    "\n",
    "Let's go ahead and add a few more landmarks to our table."
   ]
  },
  {
   "cell_type": "code",
   "execution_count": 4,
   "metadata": {},
   "outputs": [
    {
     "data": {
      "text/html": [
       "<div>\n",
       "<style scoped>\n",
       "    .dataframe tbody tr th:only-of-type {\n",
       "        vertical-align: middle;\n",
       "    }\n",
       "\n",
       "    .dataframe tbody tr th {\n",
       "        vertical-align: top;\n",
       "    }\n",
       "\n",
       "    .dataframe thead th {\n",
       "        text-align: right;\n",
       "    }\n",
       "</style>\n",
       "<table border=\"1\" class=\"dataframe\">\n",
       "  <thead>\n",
       "    <tr style=\"text-align: right;\">\n",
       "      <th></th>\n",
       "      <th>name</th>\n",
       "      <th>latitude</th>\n",
       "      <th>longitude</th>\n",
       "      <th>landmark_geom</th>\n",
       "    </tr>\n",
       "  </thead>\n",
       "  <tbody>\n",
       "    <tr>\n",
       "      <th>0</th>\n",
       "      <td>Rockefeller Center</td>\n",
       "      <td>40.7587</td>\n",
       "      <td>-73.9787</td>\n",
       "      <td>None</td>\n",
       "    </tr>\n",
       "    <tr>\n",
       "      <th>1</th>\n",
       "      <td>Statue of Liberty</td>\n",
       "      <td>40.6892</td>\n",
       "      <td>-74.0445</td>\n",
       "      <td>None</td>\n",
       "    </tr>\n",
       "    <tr>\n",
       "      <th>2</th>\n",
       "      <td>New York Stock Exchange</td>\n",
       "      <td>40.7069</td>\n",
       "      <td>-74.0113</td>\n",
       "      <td>None</td>\n",
       "    </tr>\n",
       "    <tr>\n",
       "      <th>3</th>\n",
       "      <td>Empire State Building</td>\n",
       "      <td>40.7484</td>\n",
       "      <td>-73.9857</td>\n",
       "      <td>POINT(-73.9857 40.7484)</td>\n",
       "    </tr>\n",
       "  </tbody>\n",
       "</table>\n",
       "</div>"
      ],
      "text/plain": [
       "                      name  latitude  longitude            landmark_geom\n",
       "0       Rockefeller Center   40.7587   -73.9787                     None\n",
       "1        Statue of Liberty   40.6892   -74.0445                     None\n",
       "2  New York Stock Exchange   40.7069   -74.0113                     None\n",
       "3    Empire State Building   40.7484   -73.9857  POINT(-73.9857 40.7484)"
      ]
     },
     "execution_count": 4,
     "metadata": {},
     "output_type": "execute_result"
    }
   ],
   "source": [
    "%%bigquery\n",
    "INSERT INTO `gis_example.nyc_landmarks` (name,latitude,longitude)\n",
    "values \n",
    "('Rockefeller Center',40.7587,-73.9787),\n",
    "('New York Stock Exchange',40.7069,-74.0113),\n",
    "('Statue of Liberty',40.6892,-74.0445);\n",
    "\n",
    "SELECT *\n",
    "FROM `gis_example.nyc_landmarks`;"
   ]
  },
  {
   "cell_type": "markdown",
   "metadata": {},
   "source": [
    "**Try It:**  \n",
    "Can you update the `landmark_geom` field for the new landmarks added in the above query?  \n",
    "*Hint:* Use the `ST_GEOGPOINT` constructor function."
   ]
  },
  {
   "cell_type": "code",
   "execution_count": null,
   "metadata": {},
   "outputs": [],
   "source": [
    "%%bigquery\n",
    "#Modify the query in this code cell to update the landmark_geo field with new GEOGRAPHY objects\n",
    "UPDATE `gis_example.nyc_landmarks`\n",
    "SET landmark_geom = ??\n",
    "WHERE name <> 'Empire State Building';\n",
    "\n",
    "SELECT *\n",
    "FROM `gis_example.nyc_landmarks`;"
   ]
  },
  {
   "cell_type": "markdown",
   "metadata": {},
   "source": [
    "## Creating `GEOGRAPHY` Linestrings\n",
    "Now that we have several `GEOGRAPHY` point objects, we can create a linestring `GEOGRAPHY` objects that connects our points together.  \n",
    "\n",
    "This can be done using the [ST_MAKELINE](https://cloud.google.com/bigquery/docs/reference/standard-sql/geography_functions#st_makeline) constructor function.\n",
    "\n",
    "Your output should look like this: `LINESTRING(-73.9857 40.7484, -73.9787 40.7587)`"
   ]
  },
  {
   "cell_type": "code",
   "execution_count": 6,
   "metadata": {},
   "outputs": [
    {
     "data": {
      "text/html": [
       "<div>\n",
       "<style scoped>\n",
       "    .dataframe tbody tr th:only-of-type {\n",
       "        vertical-align: middle;\n",
       "    }\n",
       "\n",
       "    .dataframe tbody tr th {\n",
       "        vertical-align: top;\n",
       "    }\n",
       "\n",
       "    .dataframe thead th {\n",
       "        text-align: right;\n",
       "    }\n",
       "</style>\n",
       "<table border=\"1\" class=\"dataframe\">\n",
       "  <thead>\n",
       "    <tr style=\"text-align: right;\">\n",
       "      <th></th>\n",
       "      <th>landmark_path</th>\n",
       "    </tr>\n",
       "  </thead>\n",
       "  <tbody>\n",
       "    <tr>\n",
       "      <th>0</th>\n",
       "      <td>LINESTRING(-73.9857 40.7484, -73.9787 40.7587)</td>\n",
       "    </tr>\n",
       "  </tbody>\n",
       "</table>\n",
       "</div>"
      ],
      "text/plain": [
       "                                    landmark_path\n",
       "0  LINESTRING(-73.9857 40.7484, -73.9787 40.7587)"
      ]
     },
     "execution_count": 6,
     "metadata": {},
     "output_type": "execute_result"
    }
   ],
   "source": [
    "%%bigquery\n",
    "#Create line that connects the Empire State Building and Rockefeller Center GEOGRAPHY points\n",
    "SELECT \n",
    "ST_MAKELINE(\n",
    "  (SELECT landmark_geom FROM `gis_example.nyc_landmarks` WHERE name = 'Empire State Building'), #Subquery #1: Get GEOGRAPHY point for Empire State Building\n",
    "  (SELECT landmark_geom FROM `gis_example.nyc_landmarks` WHERE name = 'Rockefeller Center')     #Subquery #2: Get GEOGRAPHY point for Rockefeller Center\n",
    ") landmark_path;"
   ]
  },
  {
   "cell_type": "markdown",
   "metadata": {},
   "source": [
    "**Try It:**  \n",
    "Using subqueries like those above, can you create a `GEOGRAPHY` linestring object that connects Rockefeller Center to the New York Stock Exchange?"
   ]
  },
  {
   "cell_type": "code",
   "execution_count": null,
   "metadata": {},
   "outputs": [],
   "source": [
    "%%bigquery\n",
    "#Create line that connects the Rockefeller Center and New York Stock Exchange GEOGRAPHY points\n",
    "SELECT \n",
    "ST_MAKELINE(\n",
    "  (??), #Subquery #1: Get GEOGRAPHY point for Rockefeller Center\n",
    "  (??)  #Subquery #2: Get GEOGRAPHY point for New York Stock Exchange\n",
    ") landmark_path;"
   ]
  },
  {
   "cell_type": "markdown",
   "metadata": {},
   "source": [
    "## Creating `GEOGRAPHY` Polygons\n",
    "The `GEOGRAPHY` data type also supports polygon objects.  A geospatial polygon is a closed data shape that can be built using the [ST_MAKEPOLYGON](https://cloud.google.com/bigquery/docs/reference/standard-sql/geography_functions#st_makepolygon) constructor function.  This constructor function takes a linestring as its input, where the linestring has to be closed (i.e., the beginning and endpoint of the linestring must be the same).  If the start and end points of the linestring are not the same, the constructor will automatically construct a final edge that connects the starting point to the end point.\n",
    "\n",
    "Let's create a polygon that has three vertices:\n",
    "* Empire State Building\n",
    "* Rockefeller Center\n",
    "* New York Stock Exchange\n",
    "\n",
    "We can make a linestring that connects all three landmark points by using an array as the input to the `ST_MAKELINE` constructor function.\n",
    "\n",
    "This linestring can then be given to the `ST_MAKEPOLYGON` constructor as its argument.\n",
    "\n",
    "You output should look like this: `POLYGON((-74.0113 40.7069, -73.9787 40.7587, -73.9857 40.7484, -74.0113 40.7069))`"
   ]
  },
  {
   "cell_type": "code",
   "execution_count": 7,
   "metadata": {},
   "outputs": [
    {
     "data": {
      "text/html": [
       "<div>\n",
       "<style scoped>\n",
       "    .dataframe tbody tr th:only-of-type {\n",
       "        vertical-align: middle;\n",
       "    }\n",
       "\n",
       "    .dataframe tbody tr th {\n",
       "        vertical-align: top;\n",
       "    }\n",
       "\n",
       "    .dataframe thead th {\n",
       "        text-align: right;\n",
       "    }\n",
       "</style>\n",
       "<table border=\"1\" class=\"dataframe\">\n",
       "  <thead>\n",
       "    <tr style=\"text-align: right;\">\n",
       "      <th></th>\n",
       "      <th>landmark_polygon</th>\n",
       "    </tr>\n",
       "  </thead>\n",
       "  <tbody>\n",
       "    <tr>\n",
       "      <th>0</th>\n",
       "      <td>POLYGON((-73.9857 40.7484, -74.0113 40.7069, -...</td>\n",
       "    </tr>\n",
       "  </tbody>\n",
       "</table>\n",
       "</div>"
      ],
      "text/plain": [
       "                                    landmark_polygon\n",
       "0  POLYGON((-73.9857 40.7484, -74.0113 40.7069, -..."
      ]
     },
     "execution_count": 7,
     "metadata": {},
     "output_type": "execute_result"
    }
   ],
   "source": [
    "%%bigquery\n",
    "SELECT ST_MAKEPOLYGON(landmark_path.path) landmark_polygon\n",
    "FROM (\n",
    "  SELECT ST_MAKELINE(ARRAY(SELECT landmark_geom FROM `gis_example.nyc_landmarks` \n",
    "                           WHERE name in ('Empire State Building','Rockefeller Center','New York Stock Exchange'))) path) landmark_path;"
   ]
  },
  {
   "cell_type": "markdown",
   "metadata": {},
   "source": [
    "## Exporting `GEOGRAPHY` Objects\n",
    "We are now going to look at \"formatter\" functions, which allow us to export `GEOGRAPHY` data types into other formats.\n",
    "\n",
    "Let's export the `GEOGRAPHY` point data for the Statue of Liberty into [GeoJSON](https://en.wikipedia.org/wiki/GeoJSON) format.\n",
    "\n",
    "You output should look like this: `{ \"type\": \"Point\", \"coordinates\": [-74.0445, 40.6892] }`"
   ]
  },
  {
   "cell_type": "code",
   "execution_count": 8,
   "metadata": {},
   "outputs": [
    {
     "data": {
      "text/html": [
       "<div>\n",
       "<style scoped>\n",
       "    .dataframe tbody tr th:only-of-type {\n",
       "        vertical-align: middle;\n",
       "    }\n",
       "\n",
       "    .dataframe tbody tr th {\n",
       "        vertical-align: top;\n",
       "    }\n",
       "\n",
       "    .dataframe thead th {\n",
       "        text-align: right;\n",
       "    }\n",
       "</style>\n",
       "<table border=\"1\" class=\"dataframe\">\n",
       "  <thead>\n",
       "    <tr style=\"text-align: right;\">\n",
       "      <th></th>\n",
       "      <th>GeoJSON</th>\n",
       "    </tr>\n",
       "  </thead>\n",
       "  <tbody>\n",
       "    <tr>\n",
       "      <th>0</th>\n",
       "      <td>{ \"type\": \"Point\", \"coordinates\": [-74.0445, 4...</td>\n",
       "    </tr>\n",
       "  </tbody>\n",
       "</table>\n",
       "</div>"
      ],
      "text/plain": [
       "                                             GeoJSON\n",
       "0  { \"type\": \"Point\", \"coordinates\": [-74.0445, 4..."
      ]
     },
     "execution_count": 8,
     "metadata": {},
     "output_type": "execute_result"
    }
   ],
   "source": [
    "%%bigquery\n",
    "SELECT ST_ASGEOJSON(landmark_geom) GeoJSON\n",
    "FROM `gis_example.nyc_landmarks` \n",
    "WHERE name = 'Statue of Liberty';"
   ]
  },
  {
   "cell_type": "markdown",
   "metadata": {},
   "source": [
    "We can use the [ST_ASGEOJSON](https://cloud.google.com/bigquery/docs/reference/standard-sql/geography_functions#st_asgeojson) formatter function to convert all of the `GEOGRAPHY` data objects in the `nyc_landmarks` table to GeoJSON format.\n",
    "\n",
    "The \"export_geo\" tag after the `%%bigquery` \"magic\" command saves the query output into a `pandas` dataframe."
   ]
  },
  {
   "cell_type": "code",
   "execution_count": 9,
   "metadata": {},
   "outputs": [],
   "source": [
    "%%bigquery export_geo\n",
    "SELECT name, ST_ASGEOJSON(landmark_geom) GeoJSON\n",
    "FROM `gis_example.nyc_landmarks`;"
   ]
  },
  {
   "cell_type": "code",
   "execution_count": 10,
   "metadata": {},
   "outputs": [
    {
     "data": {
      "text/html": [
       "<div>\n",
       "<style scoped>\n",
       "    .dataframe tbody tr th:only-of-type {\n",
       "        vertical-align: middle;\n",
       "    }\n",
       "\n",
       "    .dataframe tbody tr th {\n",
       "        vertical-align: top;\n",
       "    }\n",
       "\n",
       "    .dataframe thead th {\n",
       "        text-align: right;\n",
       "    }\n",
       "</style>\n",
       "<table border=\"1\" class=\"dataframe\">\n",
       "  <thead>\n",
       "    <tr style=\"text-align: right;\">\n",
       "      <th></th>\n",
       "      <th>name</th>\n",
       "      <th>GeoJSON</th>\n",
       "    </tr>\n",
       "  </thead>\n",
       "  <tbody>\n",
       "    <tr>\n",
       "      <th>0</th>\n",
       "      <td>Rockefeller Center</td>\n",
       "      <td>{ \"type\": \"Point\", \"coordinates\": [-73.9787, 4...</td>\n",
       "    </tr>\n",
       "    <tr>\n",
       "      <th>1</th>\n",
       "      <td>Statue of Liberty</td>\n",
       "      <td>{ \"type\": \"Point\", \"coordinates\": [-74.0445, 4...</td>\n",
       "    </tr>\n",
       "    <tr>\n",
       "      <th>2</th>\n",
       "      <td>New York Stock Exchange</td>\n",
       "      <td>{ \"type\": \"Point\", \"coordinates\": [-74.0113, 4...</td>\n",
       "    </tr>\n",
       "    <tr>\n",
       "      <th>3</th>\n",
       "      <td>Empire State Building</td>\n",
       "      <td>{ \"type\": \"Point\", \"coordinates\": [-73.9857, 4...</td>\n",
       "    </tr>\n",
       "  </tbody>\n",
       "</table>\n",
       "</div>"
      ],
      "text/plain": [
       "                      name                                            GeoJSON\n",
       "0       Rockefeller Center  { \"type\": \"Point\", \"coordinates\": [-73.9787, 4...\n",
       "1        Statue of Liberty  { \"type\": \"Point\", \"coordinates\": [-74.0445, 4...\n",
       "2  New York Stock Exchange  { \"type\": \"Point\", \"coordinates\": [-74.0113, 4...\n",
       "3    Empire State Building  { \"type\": \"Point\", \"coordinates\": [-73.9857, 4..."
      ]
     },
     "execution_count": 10,
     "metadata": {},
     "output_type": "execute_result"
    }
   ],
   "source": [
    "#View pandas dataframe with landmark name and GeoJSON point coordinates\n",
    "export_geo.head()"
   ]
  },
  {
   "cell_type": "markdown",
   "metadata": {},
   "source": [
    "**Try It:**  \n",
    "Can you export the `GEOGRAPHY` point data for the New York Stock Exchange formatted as well-known text (WKT)?  \n",
    "*Hint:* Use the [ST_ASTEXT](https://cloud.google.com/bigquery/docs/reference/standard-sql/geography_functions#st_astext) formatter function."
   ]
  },
  {
   "cell_type": "code",
   "execution_count": null,
   "metadata": {},
   "outputs": [],
   "source": [
    "%%bigquery\n",
    "SELECT ?? \n",
    "FROM `gis_example.nyc_landmarks` \n",
    "WHERE name = 'New York Stock Exchange';"
   ]
  },
  {
   "cell_type": "markdown",
   "metadata": {},
   "source": [
    "## Explore Further\n",
    "Now that you have gotten started with `GEOGRAPHY` data types in BigQuery GIS, you can view the full documentation for `GEOGRAPHY` functions [here](https://cloud.google.com/bigquery/docs/reference/standard-sql/geography_functions)."
   ]
  }
 ],
 "metadata": {
  "environment": {
   "name": "common-cpu.m50",
   "type": "gcloud",
   "uri": "gcr.io/deeplearning-platform-release/base-cpu:m50"
  },
  "kernelspec": {
   "display_name": "Python 3",
   "language": "python",
   "name": "python3"
  },
  "language_info": {
   "codemirror_mode": {
    "name": "ipython",
    "version": 3
   },
   "file_extension": ".py",
   "mimetype": "text/x-python",
   "name": "python",
   "nbconvert_exporter": "python",
   "pygments_lexer": "ipython3",
   "version": "3.7.6"
  }
 },
 "nbformat": 4,
 "nbformat_minor": 4
}
